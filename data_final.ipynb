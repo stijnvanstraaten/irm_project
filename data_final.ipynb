{
  "nbformat": 4,
  "nbformat_minor": 0,
  "metadata": {
    "colab": {
      "provenance": []
    },
    "kernelspec": {
      "name": "python3",
      "display_name": "Python 3"
    },
    "language_info": {
      "name": "python"
    }
  },
  "cells": [
    {
      "cell_type": "markdown",
      "source": [
        "Note: First import the tweet text data to a local folder, in our case the folder is called \"tweet_texts\""
      ],
      "metadata": {
        "id": "7FhJ5w_5UAZD"
      }
    },
    {
      "cell_type": "markdown",
      "source": [
        "Imports"
      ],
      "metadata": {
        "id": "svgTN4ljTsmw"
      }
    },
    {
      "cell_type": "code",
      "execution_count": 27,
      "metadata": {
        "id": "mQwIdDqZSgm-"
      },
      "outputs": [],
      "source": [
        "import os\n",
        "import nltk\n",
        "from nltk.tokenize import sent_tokenize, word_tokenize"
      ]
    },
    {
      "cell_type": "markdown",
      "source": [
        "Pre-processing (Tokenizing all sentences)"
      ],
      "metadata": {
        "id": "O5Nu8Xd1TvxC"
      }
    },
    {
      "cell_type": "code",
      "source": [
        "dir = \"tweet_texts\"\n",
        "\n",
        "nltk.download('punkt')\n",
        "\n",
        "words_2010 = []\n",
        "words_2022 = []\n",
        "\n",
        "for filename in os.listdir(dir):\n",
        "  if filename.startswith(\"2010\") or filename.startswith(\"2022\"):\n",
        "    with open(os.path.join(dir, filename)) as file:\n",
        "      for line in file:\n",
        "        sentence = line.rstrip()\n",
        "        tok_sentence = nltk.tokenize.word_tokenize(sentence)\n",
        "        if filename.startswith(\"2010\"):\n",
        "          for i in tok_sentence:\n",
        "            words_2010.append(i)\n",
        "        else:\n",
        "          for i in tok_sentence:\n",
        "            words_2022.append(i)\n",
        "  "
      ],
      "metadata": {
        "id": "Bj29KHXrT4eB"
      },
      "execution_count": null,
      "outputs": []
    },
    {
      "cell_type": "markdown",
      "source": [
        "Counting the occurences"
      ],
      "metadata": {
        "id": "H2MuUtChZoV1"
      }
    },
    {
      "cell_type": "code",
      "source": [
        "count_dict_2010 = {\"verwijder\": 0, \"delete\": 0}\n",
        "\n",
        "count_dict_2022 = {\"verwijder\": 0, \"delete\": 0}\n",
        "\n",
        "for word in words_2010:\n",
        "  if word.lower() == \"verwijder\":\n",
        "    count_dict_2010[\"verwijder\"] += 1\n",
        "  if word.lower() == \"delete\":\n",
        "    count_dict_2010[\"delete\"] += 1\n",
        "\n",
        "for word in words_2022:\n",
        "  if word.lower() == \"verwijder\":\n",
        "    count_dict_2022[\"verwijder\"] += 1\n",
        "  if word.lower() == \"delete\":\n",
        "    count_dict_2022[\"delete\"] += 1\n",
        "\n",
        "print(count_dict_2010)\n",
        "print(count_dict_2022)"
      ],
      "metadata": {
        "colab": {
          "base_uri": "https://localhost:8080/"
        },
        "id": "h3nZnFblVfaQ",
        "outputId": "011c7dd6-5ab3-47d6-c530-80751077fd5b"
      },
      "execution_count": 43,
      "outputs": [
        {
          "output_type": "stream",
          "name": "stdout",
          "text": [
            "{'verwijder': 172, 'delete': 98}\n",
            "{'verwijder': 54, 'delete': 30}\n"
          ]
        }
      ]
    }
  ]
}